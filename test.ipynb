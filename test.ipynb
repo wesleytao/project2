{
 "cells": [
  {
   "cell_type": "code",
   "execution_count": 2,
   "metadata": {},
   "outputs": [
    {
     "ename": "SyntaxError",
     "evalue": "invalid syntax (<ipython-input-2-ee469594f8b6>, line 1)",
     "output_type": "error",
     "traceback": [
      "\u001b[1;36m  File \u001b[1;32m\"<ipython-input-2-ee469594f8b6>\"\u001b[1;36m, line \u001b[1;32m1\u001b[0m\n\u001b[1;33m    [(926, 'Sun Feb 26 11:07:46 +0000 2017', 8.358085703818486e+17, None, 36.0, None, 27.0, None, \"If you've changed your Twitch name and use @discordapp, be sure to reconnect your account! Discord will use your old name+URL until you do.\", '3ventic', '3v'), {'idx': 0, 'create_time': 1, 'id': 2, 'in_reply': 3, 'like_num': 4, 'quoted_org_id': 5, 'retweet_num': 6, 'retweet_org_id': 7, 'text': 8, 'twitter_username': 9, 'twitch_username': 10}), Row((86, 'Tue Dec 26 06:56:00 +0000 2017', 9.455487356265349e+17, None, 18.0, None, 0.0, None, \"It's ok to go to bed at 9am since it's still dark outside, right?\", '3ventic', '3v'), {'idx': 0, 'create_time': 1, 'id': 2, 'in_reply': 3, 'like_num': 4, 'quoted_org_id': 5, 'retweet_num': 6, 'retweet_org_id': 7, 'text': 8, 'twitter_username': 9, 'twitch_username': 10}), Row((104, 'Mon Dec 11 02:39:35 +0000 2017', 9.400483880531149e+17, None, 18.0, None, 0.0, None, \"I don't like it when streamers only use a single letter for their emotes as it makes the emotes harder to use; can'… https://t.co/XvWjjXiooO\", '3ventic', '3v'), {'idx': 0, 'create_time': 1, 'id': 2, 'in_reply': 3, 'like_num': 4, 'quoted_org_id': 5, 'retweet_num': 6, 'retweet_org_id': 7, 'text': 8, 'twitter_username': 9, 'twitch_username': 10}]\u001b[0m\n\u001b[1;37m                                                                                                                                                                                                                                                                                                                                                                                                                                                          ^\u001b[0m\n\u001b[1;31mSyntaxError\u001b[0m\u001b[1;31m:\u001b[0m invalid syntax\n"
     ]
    }
   ],
   "source": [
    "[Row(\n",
    "    (926, 'Sun Feb 26 11:07:46 +0000 2017', 8.358085703818486e+17, None, 36.0, None, 27.0, None, \"If you've changed your Twitch name and use @discordapp, be sure to reconnect your account! Discord will use your old name+URL until you do.\", '3ventic', '3v'),\n",
    "    {'idx': 0, 'create_time': 1, 'id': 2, 'in_reply': 3, 'like_num': 4, 'quoted_org_id': 5, 'retweet_num': 6, 'retweet_org_id': 7, 'text': 8, 'twitter_username': 9, 'twitch_username': 10}\n",
    "    ),\n",
    " Row(\n",
    "     (86, 'Tue Dec 26 06:56:00 +0000 2017', 9.455487356265349e+17, None, 18.0, None, 0.0, None, \"It's ok to go to bed at 9am since it's still dark outside, right?\", '3ventic', '3v'),\n",
    "     {'idx': 0, 'create_time': 1, 'id': 2, 'in_reply': 3, 'like_num': 4, 'quoted_org_id': 5, 'retweet_num': 6, 'retweet_org_id': 7, 'text': 8, 'twitter_username': 9, 'twitch_username': 10}),\n",
    " Row((104, 'Mon Dec 11 02:39:35 +0000 2017', 9.400483880531149e+17, None, 18.0, None, 0.0, None, \"I don't like it when streamers only use a single letter for their emotes as it makes the emotes harder to use; can'… https://t.co/XvWjjXiooO\", '3ventic', '3v'), \n",
    "     {'idx': 0, 'create_time': 1, 'id': 2, 'in_reply': 3, 'like_num': 4, 'quoted_org_id': 5, 'retweet_num': 6, 'retweet_org_id': 7, 'text': 8, 'twitter_username': 9, 'twitch_username': 10})]"
   ]
  },
  {
   "cell_type": "code",
   "execution_count": null,
   "metadata": {},
   "outputs": [],
   "source": [
    "'idx': 0, \n",
    "    'create_time': 1, \n",
    "        'id': 2, 'in_reply': 3, \n",
    "                'like_num': 4, \n",
    "                    'quoted_org_id': 5, \n",
    "                        'retweet_num': 6,\n",
    "                            'retweet_org_id': 7, \n",
    "                                'text': 8, \n",
    "                                    'twitter_username': 9, \n",
    "                                        'twitch_username': 10"
   ]
  },
  {
   "cell_type": "code",
   "execution_count": 4,
   "metadata": {},
   "outputs": [],
   "source": [
    "data = (926, 'Sun Feb 26 11:07:46 +0000 2017', 8.358085703818486e+17, None, 36.0, None, 27.0, None, \"If you've changed your Twitch name and use @discordapp, be sure to reconnect your account! Discord will use your old name+URL until you do.\", '3ventic', '3v')\n",
    "dic = {'idx': 0, 'create_time': 1, 'id': 2, 'in_reply': 3, 'like_num': 4, 'quoted_org_id': 5, 'retweet_num': 6, 'retweet_org_id': 7, 'text': 8, 'twitter_username': 9, 'twitch_username': 10}\n",
    "    "
   ]
  },
  {
   "cell_type": "code",
   "execution_count": 6,
   "metadata": {},
   "outputs": [
    {
     "name": "stdout",
     "output_type": "stream",
     "text": [
      "{'idx': 926, 'create_time': 'Sun Feb 26 11:07:46 +0000 2017', 'id': 8.358085703818486e+17, 'in_reply': None, 'like_num': 36.0, 'quoted_org_id': None, 'retweet_num': 27.0, 'retweet_org_id': None, 'text': \"If you've changed your Twitch name and use @discordapp, be sure to reconnect your account! Discord will use your old name+URL until you do.\", 'twitter_username': '3ventic', 'twitch_username': '3v'}\n"
     ]
    }
   ],
   "source": [
    "for key in dic:\n",
    "    i = dic[key] \n",
    "    dic[key] = data[i]\n",
    "print (dic)"
   ]
  },
  {
   "cell_type": "code",
   "execution_count": 18,
   "metadata": {},
   "outputs": [
    {
     "name": "stdout",
     "output_type": "stream",
     "text": [
      "idx                 : 926\n",
      "create_time         : Sun Feb 26 11:07:46 +0000 2017\n",
      "id                  : 8.358085703818486e+17\n",
      "in_reply            : None\n",
      "like_num            : 36.0\n",
      "quoted_org_id       : None\n",
      "retweet_num         : 27.0\n",
      "retweet_org_id      : None\n",
      "text                : If you've changed your Twitch name and use @discordapp, be sure to reconnect your account! Discord will use your old name+URL until you do.\n",
      "twitter_username    : 3ventic\n",
      "twitch_username     : 3v\n"
     ]
    }
   ],
   "source": [
    "for key,value in dic.items():\n",
    "    print (\"{0:19} : {1}\".format(key,value))"
   ]
  },
  {
   "cell_type": "code",
   "execution_count": null,
   "metadata": {},
   "outputs": [],
   "source": [
    "\"%a %b %d %T +0000 %E4Y\""
   ]
  },
  {
   "cell_type": "markdown",
   "metadata": {},
   "source": [
    "%A\tThe full weekday name.\n",
    "%a\tThe abbreviated weekday name.\n",
    "%B\tThe full month name.\n",
    "%b or %h\tThe abbreviated month name.\n",
    "%C\tThe century (a year divided by 100 and truncated to an integer) as a decimal number (00-99).\n",
    "%c\tThe date and time representation.\n",
    "%D\tThe date in the format %m/%d/%y.\n",
    "%d\tThe day of the month as a decimal number (01-31).\n",
    "%e\tThe day of month as a decimal number (1-31); single digits are preceded by a space.\n",
    "%F\tThe date in the format %Y-%m-%d.\n",
    "%G\tThe ISO 8601 year with century as a decimal number.\n",
    "%g\tThe ISO 8601 year without century as a decimal number (00-99).\n",
    "%H\tThe hour (24-hour clock) as a decimal number (00-23).\n",
    "%I\tThe hour (12-hour clock) as a decimal number (01-12).\n",
    "%j\tThe day of the year as a decimal number (001-366).\n",
    "%k\tThe hour (24-hour clock) as a decimal number (0-23); single digits are preceded by a space.\n",
    "%l\tThe hour (12-hour clock) as a decimal number (1-12); single digits are preceded by a space.\n",
    "%M\tThe minute as a decimal number (00-59).\n",
    "%m\tThe month as a decimal number (01-12).\n",
    "%n\tA newline character.\n",
    "%P\tEither am or pm.\n",
    "%p\tEither AM or PM.\n",
    "%R\tThe time in the format %H:%M.\n",
    "%r\tThe 12-hour clock time using AM/PM notation.\n",
    "%S\tThe second as a decimal number (00-60).\n",
    "%s\tThe number of seconds since 1970-01-01 00:00:00. Always overrides all other format elements, independent of where %s appears in the string. If multiple %s elements appear, then the last one takes precedence.\n",
    "%T\tThe time in the format %H:%M:%S.\n",
    "%t\tA tab character.\n",
    "%U\tThe week number of the year (Sunday as the first day of the week) as a decimal number (00-53).\n",
    "%u\tThe weekday (Monday as the first day of the week) as a decimal number (1-7).\n",
    "%V\tThe week number of the year (Monday as the first day of the week) as a decimal number (01-53). If the week containing January 1 has four or more days in the new year, then it is week 1; otherwise it is week 53 of the previous year, and the next week is week 1.\n",
    "%W\tThe week number of the year (Monday as the first day of the week) as a decimal number (00-53).\n",
    "%w\tThe weekday (Sunday as the first day of the week) as a decimal number (0-6).\n",
    "%X\tThe time representation in HH:MM:SS format.\n",
    "%x\tThe date representation in MM/DD/YY format.\n",
    "%Y\tThe year with century as a decimal number.\n",
    "%y\tThe year without century as a decimal number (00-99), with an optional leading zero. Can be mixed with %C. If %C is not specified, years 00-68 are 2000s, while years 69-99 are 1900s.\n",
    "%%\tA single % character.\n",
    "%E#S\tSeconds with # digits of fractional precision.\n",
    "%E*S\tSeconds with full fractional precision (a literal '*').\n",
    "%E4Y\tFour-character years (0001 ... 9999). Note that %Y produces as many characters as it takes to fully render the year."
   ]
  }
 ],
 "metadata": {
  "kernelspec": {
   "display_name": "Python 3",
   "language": "python",
   "name": "python3"
  },
  "language_info": {
   "codemirror_mode": {
    "name": "ipython",
    "version": 3
   },
   "file_extension": ".py",
   "mimetype": "text/x-python",
   "name": "python",
   "nbconvert_exporter": "python",
   "pygments_lexer": "ipython3",
   "version": "3.6.7"
  }
 },
 "nbformat": 4,
 "nbformat_minor": 2
}
